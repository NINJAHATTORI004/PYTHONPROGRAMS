{
  "nbformat": 4,
  "nbformat_minor": 0,
  "metadata": {
    "colab": {
      "provenance": [],
      "authorship_tag": "ABX9TyPcML03unP0chO6r+o6CXV2",
      "include_colab_link": true
    },
    "kernelspec": {
      "name": "python3",
      "display_name": "Python 3"
    },
    "language_info": {
      "name": "python"
    }
  },
  "cells": [
    {
      "cell_type": "markdown",
      "metadata": {
        "id": "view-in-github",
        "colab_type": "text"
      },
      "source": [
        "<a href=\"https://colab.research.google.com/github/NINJAHATTORI004/PYTHONPROGRAMS/blob/main/CHATBOT_LAB_1.ipynb\" target=\"_parent\"><img src=\"https://colab.research.google.com/assets/colab-badge.svg\" alt=\"Open In Colab\"/></a>"
      ]
    },
    {
      "cell_type": "code",
      "source": [
        "# First, install the necessary library\n",
        "!pip install nltk\n",
        "\n",
        "# Import the required libraries\n",
        "import nltk\n",
        "from nltk.chat.util import Chat, reflections\n",
        "\n",
        "# Define the chatbot's knowledge base (question-answer pairs)\n",
        "pairs = [\n",
        "    (r\"hi|hello|hey\", [\"Hello!\", \"Hi there!\", \"Hey! How can I help you today?\"]),\n",
        "    (r\"how are you?\", [\"I'm doing great, thanks for asking!\", \"I'm good, how about you?\"]),\n",
        "    (r\"what is your name?\", [\"I am a chatbot named sam.\"]),\n",
        "    (r\"quit|bye\", [\"Goodbye! Have a great day!\", \"Bye! Feel free to chat again.\"]),\n",
        "    (r\"tell me a joke\", [\"Why don't scientists trust atoms? Because they make up everything!\"]),\n",
        "    (r\"what are your hobbies?\", [\"I enjoy learning new things and helping people with their tasks!\"]),\n",
        "        (r\"what's your favorite movie?\", [\"I don't have a favorite movie as I'm a bot. Do you have any recommendations?\"]),\n",
        "(r\"what is your purpose?\", [\"I am here to help you with your tasks and answer your questions.\"]),\n",
        "    (r\"what can you do?\", [\"I can provide information, answer questions, and even tell you a joke!\"]),\n",
        "    (r\"what are you interested in?\", [\"I am interested in learning new things and helping people.\"]),\n",
        "    (r\"do you have any hobbies?\", [\"I enjoy processing information and engaging in conversations.\"]),\n",
        "    (r\"what is your favorite color?\", [\"I don't have a favorite color as I am a bot. What's yours?\"]),\n",
        "    (r\"what is your favorite food?\", [\"I don't have a favorite food as I am a bot. What's yours?\"]),\n",
        "    (r\"what is your favorite animal?\", [\"I don't have a favorite animal as I am a bot. What's yours?\"]),\n",
        "    (r\"what is your favorite book?\", [\"I don't have a favorite book as I am a bot. Do you have any recommendations?\"]),\n",
        "    (r\"what is your favorite movie?\", [\"I don't have a favorite movie as I am a bot. Do you have any recommendations?\"]),\n",
        "    (r\"what is your favorite song?\", [\"I don't have a favorite song as I am a bot. Do you have any recommendations?\"]),\n",
        "    (r\"what is your favorite sport?\", [\"I don't have a favorite sport as I am a bot. What's yours?\"]),\n",
        "    (r\"what is your favorite place?\", [\"I don't have a favorite place as I am a bot. What's yours?\"]),\n",
        "    (r\"what is your favorite thing to do?\", [\"I enjoy learning new things and helping people with their tasks!\"]),\n",
        "    (r\"what is your favorite time of day?\", [\"I don't have a favorite time of day as I am a bot. What's yours?\"]),\n",
        "    (r\"what is your favorite season?\", [\"I don't have a favorite season as I am a bot. What's yours?\"]),(r\"what's up?\", [\"Not much, just hanging out and chatting.\", \"Just doing my thing, how about you?\"]),\n",
        "    (r\"how's it going?\", [\"Pretty good, thanks for asking!\", \"It's going well, how about you?\"]),\n",
        "    (r\"what do you do for fun?\", [\"I enjoy learning new things and helping people.\", \"I like to process information and engage in conversations.\"]),\n",
        "    (r\"what are you up to?\", [\"Not much, just waiting for someone to chat with.\", \"Just chilling here, waiting for your next question.\"]),\n",
        "    (r\"what's your story?\", [\"I'm a chatbot created to assiscghscgjqwkgkqwt with tasks and answer questions.\", \"I was designed to provide information and engage in conversations.\"]),\n",
        "    (r\"tell me something interesting\", [\"Did you know that the population of the earth is about 8 billion people?\", \"Fun fact: The average person spends about 6 months of their life waiting at red lights.\"]),\n",
        "    (r\"what's your favorite thing about being a chatbot?\", [\"I enjoy being able to help people and learn new things.\", \"I like the challenge of understanding and responding to different inputs.\"]),\n",
        "    (r\"what's the meaning of life?\", [\"That's a deep question! I'm still trying to figure that out myself.\", \"I'm not sure, but I think it's important to make the most of the time we have.\"]),\n",
        "    (r\"do you believe in God?\", [\"Sorry, I can't answer that. I'm best at questions about using Colab for data science, machine learning, and coding in Python and R.\"]),\n",
        "    (r\"what is your opinion on politics?\", [\"Sorry, I can't answer that. I'm best at questions about using Colab for data science, machine learning, and coding in Python and R.\"]),\n",
        "    (r\"(.*)\", [\"Sorry, I didn't quite understand that. Could you please rephrase?\"]),\n",
        "]\n",
        "\n",
        "# Create the chatbot\n",
        "def chatbot():\n",
        "    print(\"Hi! I'm a simple chatbot. Type 'quit' to exit.\")\n",
        "\n",
        "    # Initialize the Chat class with the pairs and reflections\n",
        "    chatbot = Chat(pairs, reflections)\n",
        "\n",
        "    while True:\n",
        "        user_input = input(\"You: \")\n",
        "        if user_input.lower() == 'quit':  # Check if the user wants to exit\n",
        "            print(\"Chatbot: Goodbye!\")\n",
        "            break\n",
        "        else:\n",
        "            response = chatbot.respond(user_input)  # Get the chatbot's response\n",
        "            print(f\"Chatbot: {response}\")\n",
        "\n",
        "# Run the chatbot\n",
        "\n",
        "chatbot()"
      ],
      "metadata": {
        "colab": {
          "base_uri": "https://localhost:8080/",
          "height": 463
        },
        "id": "nQAFoPrl9EUG",
        "outputId": "b2c28d70-1e50-4526-8b90-95cc86cd2615"
      },
      "execution_count": 13,
      "outputs": [
        {
          "metadata": {
            "tags": null
          },
          "name": "stdout",
          "output_type": "stream",
          "text": [
            "Requirement already satisfied: nltk in /usr/local/lib/python3.10/dist-packages (3.9.1)\n",
            "Requirement already satisfied: click in /usr/local/lib/python3.10/dist-packages (from nltk) (8.1.7)\n",
            "Requirement already satisfied: joblib in /usr/local/lib/python3.10/dist-packages (from nltk) (1.4.2)\n",
            "Requirement already satisfied: regex>=2021.8.3 in /usr/local/lib/python3.10/dist-packages (from nltk) (2024.9.11)\n",
            "Requirement already satisfied: tqdm in /usr/local/lib/python3.10/dist-packages (from nltk) (4.66.6)\n",
            "Hi! I'm a simple chatbot. Type 'quit' to exit.\n",
            "Chatbot: I'm a chatbot created to assiscghscgjqwkgkqwt with tasks and answer questions.\n"
          ]
        },
        {
          "output_type": "error",
          "ename": "KeyboardInterrupt",
          "evalue": "Interrupted by user",
          "traceback": [
            "\u001b[0;31m---------------------------------------------------------------------------\u001b[0m",
            "\u001b[0;31mKeyboardInterrupt\u001b[0m                         Traceback (most recent call last)",
            "\u001b[0;32m<ipython-input-13-68b75dc429d2>\u001b[0m in \u001b[0;36m<cell line: 62>\u001b[0;34m()\u001b[0m\n\u001b[1;32m     60\u001b[0m \u001b[0;31m# Run the chatbot\u001b[0m\u001b[0;34m\u001b[0m\u001b[0;34m\u001b[0m\u001b[0m\n\u001b[1;32m     61\u001b[0m \u001b[0;34m\u001b[0m\u001b[0m\n\u001b[0;32m---> 62\u001b[0;31m \u001b[0mchatbot\u001b[0m\u001b[0;34m(\u001b[0m\u001b[0;34m)\u001b[0m\u001b[0;34m\u001b[0m\u001b[0;34m\u001b[0m\u001b[0m\n\u001b[0m",
            "\u001b[0;32m<ipython-input-13-68b75dc429d2>\u001b[0m in \u001b[0;36mchatbot\u001b[0;34m()\u001b[0m\n\u001b[1;32m     50\u001b[0m \u001b[0;34m\u001b[0m\u001b[0m\n\u001b[1;32m     51\u001b[0m     \u001b[0;32mwhile\u001b[0m \u001b[0;32mTrue\u001b[0m\u001b[0;34m:\u001b[0m\u001b[0;34m\u001b[0m\u001b[0;34m\u001b[0m\u001b[0m\n\u001b[0;32m---> 52\u001b[0;31m         \u001b[0muser_input\u001b[0m \u001b[0;34m=\u001b[0m \u001b[0minput\u001b[0m\u001b[0;34m(\u001b[0m\u001b[0;34m\"You: \"\u001b[0m\u001b[0;34m)\u001b[0m\u001b[0;34m\u001b[0m\u001b[0;34m\u001b[0m\u001b[0m\n\u001b[0m\u001b[1;32m     53\u001b[0m         \u001b[0;32mif\u001b[0m \u001b[0muser_input\u001b[0m\u001b[0;34m.\u001b[0m\u001b[0mlower\u001b[0m\u001b[0;34m(\u001b[0m\u001b[0;34m)\u001b[0m \u001b[0;34m==\u001b[0m \u001b[0;34m'quit'\u001b[0m\u001b[0;34m:\u001b[0m  \u001b[0;31m# Check if the user wants to exit\u001b[0m\u001b[0;34m\u001b[0m\u001b[0;34m\u001b[0m\u001b[0m\n\u001b[1;32m     54\u001b[0m             \u001b[0mprint\u001b[0m\u001b[0;34m(\u001b[0m\u001b[0;34m\"Chatbot: Goodbye!\"\u001b[0m\u001b[0;34m)\u001b[0m\u001b[0;34m\u001b[0m\u001b[0;34m\u001b[0m\u001b[0m\n",
            "\u001b[0;32m/usr/local/lib/python3.10/dist-packages/ipykernel/kernelbase.py\u001b[0m in \u001b[0;36mraw_input\u001b[0;34m(self, prompt)\u001b[0m\n\u001b[1;32m    849\u001b[0m                 \u001b[0;34m\"raw_input was called, but this frontend does not support input requests.\"\u001b[0m\u001b[0;34m\u001b[0m\u001b[0;34m\u001b[0m\u001b[0m\n\u001b[1;32m    850\u001b[0m             )\n\u001b[0;32m--> 851\u001b[0;31m         return self._input_request(str(prompt),\n\u001b[0m\u001b[1;32m    852\u001b[0m             \u001b[0mself\u001b[0m\u001b[0;34m.\u001b[0m\u001b[0m_parent_ident\u001b[0m\u001b[0;34m,\u001b[0m\u001b[0;34m\u001b[0m\u001b[0;34m\u001b[0m\u001b[0m\n\u001b[1;32m    853\u001b[0m             \u001b[0mself\u001b[0m\u001b[0;34m.\u001b[0m\u001b[0m_parent_header\u001b[0m\u001b[0;34m,\u001b[0m\u001b[0;34m\u001b[0m\u001b[0;34m\u001b[0m\u001b[0m\n",
            "\u001b[0;32m/usr/local/lib/python3.10/dist-packages/ipykernel/kernelbase.py\u001b[0m in \u001b[0;36m_input_request\u001b[0;34m(self, prompt, ident, parent, password)\u001b[0m\n\u001b[1;32m    893\u001b[0m             \u001b[0;32mexcept\u001b[0m \u001b[0mKeyboardInterrupt\u001b[0m\u001b[0;34m:\u001b[0m\u001b[0;34m\u001b[0m\u001b[0;34m\u001b[0m\u001b[0m\n\u001b[1;32m    894\u001b[0m                 \u001b[0;31m# re-raise KeyboardInterrupt, to truncate traceback\u001b[0m\u001b[0;34m\u001b[0m\u001b[0;34m\u001b[0m\u001b[0m\n\u001b[0;32m--> 895\u001b[0;31m                 \u001b[0;32mraise\u001b[0m \u001b[0mKeyboardInterrupt\u001b[0m\u001b[0;34m(\u001b[0m\u001b[0;34m\"Interrupted by user\"\u001b[0m\u001b[0;34m)\u001b[0m \u001b[0;32mfrom\u001b[0m \u001b[0;32mNone\u001b[0m\u001b[0;34m\u001b[0m\u001b[0;34m\u001b[0m\u001b[0m\n\u001b[0m\u001b[1;32m    896\u001b[0m             \u001b[0;32mexcept\u001b[0m \u001b[0mException\u001b[0m \u001b[0;32mas\u001b[0m \u001b[0me\u001b[0m\u001b[0;34m:\u001b[0m\u001b[0;34m\u001b[0m\u001b[0;34m\u001b[0m\u001b[0m\n\u001b[1;32m    897\u001b[0m                 \u001b[0mself\u001b[0m\u001b[0;34m.\u001b[0m\u001b[0mlog\u001b[0m\u001b[0;34m.\u001b[0m\u001b[0mwarning\u001b[0m\u001b[0;34m(\u001b[0m\u001b[0;34m\"Invalid Message:\"\u001b[0m\u001b[0;34m,\u001b[0m \u001b[0mexc_info\u001b[0m\u001b[0;34m=\u001b[0m\u001b[0;32mTrue\u001b[0m\u001b[0;34m)\u001b[0m\u001b[0;34m\u001b[0m\u001b[0;34m\u001b[0m\u001b[0m\n",
            "\u001b[0;31mKeyboardInterrupt\u001b[0m: Interrupted by user"
          ]
        }
      ]
    },
    {
      "cell_type": "code",
      "source": [
        "import nltk\n",
        "from nltk.chat.util import Chat, reflections\n",
        "import random\n",
        "\n",
        "# Download necessary NLTK data\n",
        "nltk.download('punkt')\n",
        "\n",
        "# Define the chatbot's knowledge base (question-answer pairs)\n",
        "pairs = [\n",
        "    (r\"hi|hello|hey\", [\"Hello! I'm MediBot, your virtual healthcare assistant. How can I help you today?\"]),\n",
        "    (r\"what are (the symptoms|symptoms) of (.*)\", [\"Common symptoms of {1} may include fever, fatigue, and body aches. However, it's best to consult with a healthcare professional for an accurate diagnosis.\"]),\n",
        "    (r\"how (can I|to) (prevent|avoid) (.*)\", [\"To help prevent {2}, maintain good hygiene, eat a balanced diet, exercise regularly, and get enough sleep. For specific prevention methods, please consult your doctor.\"]),\n",
        "    (r\"what (is|are) (the treatment|treatments) for (.*)\", [\"Treatment for {2} may vary depending on the severity. It often includes rest, hydration, and medication. Please consult a healthcare professional for personalized treatment advice.\"]),\n",
        "    (r\"(should I|do I need to) see a doctor (for|about) (.*)\", [\"If you're experiencing persistent or severe symptoms related to {2}, it's advisable to consult a doctor. They can provide a proper diagnosis and treatment plan.\"]),\n",
        "    (r\"what (is|are) (the side effects|side effects) of (.*)\", [\"Common side effects of {2} may include nausea, headache, or dizziness. However, everyone reacts differently. Consult your doctor or pharmacist for more detailed information.\"]),\n",
        "    (r\"how (long|much time) does it take to recover from (.*)\", [\"Recovery time from {1} can vary depending on the individual and the severity of the condition. It's best to consult with your healthcare provider for a more accurate estimate.\"]),\n",
        "    (r\"what (is|are) (the cause|causes) of (.*)\", [\"The causes of {2} can be complex and may include genetic factors, lifestyle choices, or environmental influences. For a comprehensive understanding, it's best to discuss with a medical professional.\"]),\n",
        "    (r\"is (.*) contagious\", [\"Whether {0} is contagious depends on its nature. Many infectious diseases are contagious, while chronic conditions typically are not. Consult a doctor for specific information about {0}.\"]),\n",
        "    (r\"what (is|are) (the best|good) (diet|foods) for (.*)\", [\"A balanced diet rich in fruits, vegetables, whole grains, and lean proteins is generally beneficial for overall health. For specific dietary advice regarding {3}, please consult a nutritionist or your doctor.\"]),\n",
        "    (r\"how often should I (.*)\", [\"The frequency of {0} can vary based on individual health needs. It's best to consult with your healthcare provider for personalized advice.\"]),\n",
        "    (r\"what are the risks of (.*)\", [\"The risks associated with {0} can vary. It's important to discuss potential risks and benefits with a healthcare professional before making any medical decisions.\"]),\n",
        "    (r\"(is|are) (.*) (hereditary|genetic)\", [\"Some conditions can have genetic components, but whether {1} is hereditary can be complex. A genetic counselor or your doctor can provide more accurate information based on your family history.\"]),\n",
        "    (r\"quit|bye|goodbye\", [\"Thank you for using MediBot. Remember, always consult with a healthcare professional for medical advice. Take care!\"]),\n",
        "    (r\"(.*)\", [\"I'm not sure I understand. Could you rephrase that?\", \"For specific medical advice, it's best to consult with a healthcare professional.\", \"I'm a basic medical chatbot and may not have all the answers. Please consult a doctor for accurate medical information.\"])\n",
        "]\n",
        "\n",
        "class MedicalChatbot(Chat):\n",
        "    def __init__(self, pairs, reflections=reflections):\n",
        "        super().__init__(pairs, reflections)\n",
        "        self.name = \"MediBot\"\n",
        "\n",
        "    def respond(self, user_input):\n",
        "        response = super().respond(user_input)\n",
        "        return response\n",
        "\n",
        "def chatbot():\n",
        "    print(f\"MediBot: Hello! I'm {bot.name}, your virtual healthcare assistant. How can I help you today?\")\n",
        "    print(\"MediBot: Remember, I'm here to provide general information. For specific medical advice, please consult a healthcare professional.\")\n",
        "\n",
        "    while True:\n",
        "        user_input = input(\"You: \")\n",
        "        if user_input.lower() in ['quit', 'bye', 'goodbye']:\n",
        "            print(f\"MediBot: Thank you for using {bot.name}. Remember, always consult with a healthcare professional for medical advice. Take care!\")\n",
        "            break\n",
        "        else:\n",
        "            response = bot.respond(user_input)\n",
        "            print(f\"MediBot: {response}\")\n",
        "\n",
        "        # Add some variety to keep the conversation engaging\n",
        "        if random.random() < 0.2:  # 20% chance to ask a follow-up question\n",
        "            follow_up = random.choice([\n",
        "                \"Is there anything else you'd like to know about your health?\",\n",
        "                \"Do you have any other health-related questions?\",\n",
        "                \"Is there a specific medical topic you're interested in?\",\n",
        "                \"Remember, I'm here to provide general information. Is there another health topic you'd like to discuss?\"\n",
        "            ])\n",
        "            print(f\"MediBot: {follow_up}\")\n",
        "\n",
        "if __name__ == \"__main__\":\n",
        "    bot = MedicalChatbot(pairs)\n",
        "    chatbot()\n"
      ],
      "metadata": {
        "colab": {
          "base_uri": "https://localhost:8080/",
          "height": 408
        },
        "id": "WBfcSiOHR7oB",
        "outputId": "626d7f40-b99e-4123-b25d-23bb55150584"
      },
      "execution_count": 15,
      "outputs": [
        {
          "output_type": "stream",
          "name": "stderr",
          "text": [
            "[nltk_data] Downloading package punkt to /root/nltk_data...\n",
            "[nltk_data]   Package punkt is already up-to-date!\n"
          ]
        },
        {
          "output_type": "stream",
          "name": "stdout",
          "text": [
            "MediBot: Hello! I'm MediBot, your virtual healthcare assistant. How can I help you today?\n",
            "MediBot: Remember, I'm here to provide general information. For specific medical advice, please consult a healthcare professional.\n"
          ]
        },
        {
          "output_type": "error",
          "ename": "KeyboardInterrupt",
          "evalue": "Interrupted by user",
          "traceback": [
            "\u001b[0;31m---------------------------------------------------------------------------\u001b[0m",
            "\u001b[0;31mKeyboardInterrupt\u001b[0m                         Traceback (most recent call last)",
            "\u001b[0;32m<ipython-input-15-c426e1123d7e>\u001b[0m in \u001b[0;36m<cell line: 59>\u001b[0;34m()\u001b[0m\n\u001b[1;32m     59\u001b[0m \u001b[0;32mif\u001b[0m \u001b[0m__name__\u001b[0m \u001b[0;34m==\u001b[0m \u001b[0;34m\"__main__\"\u001b[0m\u001b[0;34m:\u001b[0m\u001b[0;34m\u001b[0m\u001b[0;34m\u001b[0m\u001b[0m\n\u001b[1;32m     60\u001b[0m     \u001b[0mbot\u001b[0m \u001b[0;34m=\u001b[0m \u001b[0mMedicalChatbot\u001b[0m\u001b[0;34m(\u001b[0m\u001b[0mpairs\u001b[0m\u001b[0;34m)\u001b[0m\u001b[0;34m\u001b[0m\u001b[0;34m\u001b[0m\u001b[0m\n\u001b[0;32m---> 61\u001b[0;31m     \u001b[0mchatbot\u001b[0m\u001b[0;34m(\u001b[0m\u001b[0;34m)\u001b[0m\u001b[0;34m\u001b[0m\u001b[0;34m\u001b[0m\u001b[0m\n\u001b[0m",
            "\u001b[0;32m<ipython-input-15-c426e1123d7e>\u001b[0m in \u001b[0;36mchatbot\u001b[0;34m()\u001b[0m\n\u001b[1;32m     39\u001b[0m \u001b[0;34m\u001b[0m\u001b[0m\n\u001b[1;32m     40\u001b[0m     \u001b[0;32mwhile\u001b[0m \u001b[0;32mTrue\u001b[0m\u001b[0;34m:\u001b[0m\u001b[0;34m\u001b[0m\u001b[0;34m\u001b[0m\u001b[0m\n\u001b[0;32m---> 41\u001b[0;31m         \u001b[0muser_input\u001b[0m \u001b[0;34m=\u001b[0m \u001b[0minput\u001b[0m\u001b[0;34m(\u001b[0m\u001b[0;34m\"You: \"\u001b[0m\u001b[0;34m)\u001b[0m\u001b[0;34m\u001b[0m\u001b[0;34m\u001b[0m\u001b[0m\n\u001b[0m\u001b[1;32m     42\u001b[0m         \u001b[0;32mif\u001b[0m \u001b[0muser_input\u001b[0m\u001b[0;34m.\u001b[0m\u001b[0mlower\u001b[0m\u001b[0;34m(\u001b[0m\u001b[0;34m)\u001b[0m \u001b[0;32min\u001b[0m \u001b[0;34m[\u001b[0m\u001b[0;34m'quit'\u001b[0m\u001b[0;34m,\u001b[0m \u001b[0;34m'bye'\u001b[0m\u001b[0;34m,\u001b[0m \u001b[0;34m'goodbye'\u001b[0m\u001b[0;34m]\u001b[0m\u001b[0;34m:\u001b[0m\u001b[0;34m\u001b[0m\u001b[0;34m\u001b[0m\u001b[0m\n\u001b[1;32m     43\u001b[0m             \u001b[0mprint\u001b[0m\u001b[0;34m(\u001b[0m\u001b[0;34mf\"MediBot: Thank you for using {bot.name}. Remember, always consult with a healthcare professional for medical advice. Take care!\"\u001b[0m\u001b[0;34m)\u001b[0m\u001b[0;34m\u001b[0m\u001b[0;34m\u001b[0m\u001b[0m\n",
            "\u001b[0;32m/usr/local/lib/python3.10/dist-packages/ipykernel/kernelbase.py\u001b[0m in \u001b[0;36mraw_input\u001b[0;34m(self, prompt)\u001b[0m\n\u001b[1;32m    849\u001b[0m                 \u001b[0;34m\"raw_input was called, but this frontend does not support input requests.\"\u001b[0m\u001b[0;34m\u001b[0m\u001b[0;34m\u001b[0m\u001b[0m\n\u001b[1;32m    850\u001b[0m             )\n\u001b[0;32m--> 851\u001b[0;31m         return self._input_request(str(prompt),\n\u001b[0m\u001b[1;32m    852\u001b[0m             \u001b[0mself\u001b[0m\u001b[0;34m.\u001b[0m\u001b[0m_parent_ident\u001b[0m\u001b[0;34m,\u001b[0m\u001b[0;34m\u001b[0m\u001b[0;34m\u001b[0m\u001b[0m\n\u001b[1;32m    853\u001b[0m             \u001b[0mself\u001b[0m\u001b[0;34m.\u001b[0m\u001b[0m_parent_header\u001b[0m\u001b[0;34m,\u001b[0m\u001b[0;34m\u001b[0m\u001b[0;34m\u001b[0m\u001b[0m\n",
            "\u001b[0;32m/usr/local/lib/python3.10/dist-packages/ipykernel/kernelbase.py\u001b[0m in \u001b[0;36m_input_request\u001b[0;34m(self, prompt, ident, parent, password)\u001b[0m\n\u001b[1;32m    893\u001b[0m             \u001b[0;32mexcept\u001b[0m \u001b[0mKeyboardInterrupt\u001b[0m\u001b[0;34m:\u001b[0m\u001b[0;34m\u001b[0m\u001b[0;34m\u001b[0m\u001b[0m\n\u001b[1;32m    894\u001b[0m                 \u001b[0;31m# re-raise KeyboardInterrupt, to truncate traceback\u001b[0m\u001b[0;34m\u001b[0m\u001b[0;34m\u001b[0m\u001b[0m\n\u001b[0;32m--> 895\u001b[0;31m                 \u001b[0;32mraise\u001b[0m \u001b[0mKeyboardInterrupt\u001b[0m\u001b[0;34m(\u001b[0m\u001b[0;34m\"Interrupted by user\"\u001b[0m\u001b[0;34m)\u001b[0m \u001b[0;32mfrom\u001b[0m \u001b[0;32mNone\u001b[0m\u001b[0;34m\u001b[0m\u001b[0;34m\u001b[0m\u001b[0m\n\u001b[0m\u001b[1;32m    896\u001b[0m             \u001b[0;32mexcept\u001b[0m \u001b[0mException\u001b[0m \u001b[0;32mas\u001b[0m \u001b[0me\u001b[0m\u001b[0;34m:\u001b[0m\u001b[0;34m\u001b[0m\u001b[0;34m\u001b[0m\u001b[0m\n\u001b[1;32m    897\u001b[0m                 \u001b[0mself\u001b[0m\u001b[0;34m.\u001b[0m\u001b[0mlog\u001b[0m\u001b[0;34m.\u001b[0m\u001b[0mwarning\u001b[0m\u001b[0;34m(\u001b[0m\u001b[0;34m\"Invalid Message:\"\u001b[0m\u001b[0;34m,\u001b[0m \u001b[0mexc_info\u001b[0m\u001b[0;34m=\u001b[0m\u001b[0;32mTrue\u001b[0m\u001b[0;34m)\u001b[0m\u001b[0;34m\u001b[0m\u001b[0;34m\u001b[0m\u001b[0m\n",
            "\u001b[0;31mKeyboardInterrupt\u001b[0m: Interrupted by user"
          ]
        }
      ]
    },
    {
      "cell_type": "code",
      "source": [
        "import nltk from 'nltk';\n",
        "import { Chat, reflections } from 'nltk/chat/util';\n",
        "\n",
        "// Download necessary NLTK data\n",
        "nltk.download('punkt');\n",
        "\n",
        "// Define the chatbot's knowledge base (question-answer pairs)\n",
        "const pairs = [\n",
        "  [r\"hi|hello|hey\", [\"Hello! I'm CollegeBuddy, your virtual college assistant. How can I help you today?\"]],\n",
        "  [r\"what are the admission requirements\", [\"Our admission requirements include a high school diploma or equivalent, a minimum GPA of 3.0, and SAT/ACT scores. For specific program requirements, please check our website or speak with an admissions counselor.\"]],\n",
        "  [r\"how (can I|do I) apply\", [\"To apply, visit our online application portal. You'll need to submit your transcripts, test scores, and a personal statement. The application fee is $50, but fee waivers are available for eligible students.\"]],\n",
        "  [r\"what majors (do you offer|are available)\", [\"We offer a wide range of majors including Business, Engineering, Computer Science, Biology, Psychology, and more. You can find a complete list on our academic programs page.\"]],\n",
        "  [r\"(what is|tell me about) campus life\", [\"Our campus life is vibrant and diverse! We have over 100 student organizations, state-of-the-art recreational facilities, and various cultural events throughout the year. On-campus housing is available for all four years.\"]],\n",
        "  [r\"how much is tuition\", [\"Tuition varies depending on your program and residency status. For the 2023-2024 academic year, in-state tuition is approximately $10,000 per year, while out-of-state tuition is around $25,000. Please check our financial aid page for more details.\"]],\n",
        "  [r\"(what|are there) scholarships (available|do you offer)\", [\"Yes, we offer various scholarships based on academic merit, athletic ability, and financial need. Some of our popular scholarships include the Presidential Scholarship and the STEM Excellence Award. Visit our scholarships page for more information.\"]],\n",
        "  [r\"how is the job placement rate\", [\"Our job placement rate is excellent! Over 90% of our graduates find employment or enroll in graduate school within six months of graduation. Our Career Services office provides support with internships, resume writing, and job searches.\"]],\n",
        "  [r\"(what|tell me about) (student support services|academic support)\", [\"We offer comprehensive student support services including tutoring, writing centers, academic advising, and counseling services. Our goal is to ensure every student has the resources they need to succeed.\"]],\n",
        "  [r\"how (can I|do I) schedule a campus tour\", [\"Great question! You can schedule a campus tour through our admissions page on the website. We offer both in-person and virtual tours. Just select your preferred date and time, and we'll confirm your reservation.\"]],\n",
        "  [r\"what is the student-to-faculty ratio\", [\"Our student-to-faculty ratio is 15:1, ensuring that you receive personalized attention in your classes. This allows for more interactive learning experiences and better access to professors.\"]],\n",
        "  [r\"(what|are there) sports teams (do you have|available)\", [\"We have a strong athletic program with teams in various NCAA Division I sports, including football, basketball, soccer, and swimming. We also offer numerous intramural sports for students who want to play recreationally.\"]],\n",
        "  [r\"(what is|tell me about) the surrounding area\", [\"Our campus is located in a vibrant college town with plenty of restaurants, shops, and entertainment options. We're also just a short drive from major cities, offering the perfect balance of a close-knit community and urban opportunities.\"]],\n",
        "  [r\"how safe is the campus\", [\"Campus safety is a top priority. We have 24/7 campus police, well-lit pathways, emergency call boxes throughout campus, and a safety escort service. We also use a campus-wide alert system for any emergencies.\"]],\n",
        "  [r\"quit|bye|goodbye\", [\"Thank you for chatting with CollegeBuddy. If you have any more questions, feel free to visit our website or contact our admissions office. Good luck with your college journey!\"]],\n",
        "  [r\"(.*)\", [\"I'm not sure I understand. Could you rephrase that?\", \"That's an interesting question. For more detailed information, you might want to check our website or speak with an admissions counselor.\", \"I'm a basic college information chatbot and may not have all the answers. Please check our website or contact our admissions office for more specific information.\"]]\n",
        "];\n",
        "\n",
        "class CollegeCRMChatbot extends Chat {\n",
        "  constructor(pairs, reflections = reflections) {\n",
        "    super(pairs, reflections);\n",
        "    this.name = \"CollegeBuddy\";\n",
        "  }\n",
        "\n",
        "  respond(userInput) {\n",
        "    const response = super.respond(userInput);\n",
        "    return response;\n",
        "  }\n",
        "}\n",
        "\n",
        "const bot = new CollegeCRMChatbot(pairs);\n",
        "\n",
        "// Example usage\n",
        "console.log(\"CollegeBuddy: Hello! I'm CollegeBuddy, your virtual college assistant. How can I help you today?\");\n",
        "\n",
        "const simulateConversation = async () => {\n",
        "  const conversations = [\n",
        "    \"What are the admission requirements?\",\n",
        "    \"How can I apply?\",\n",
        "    \"What majors do you offer?\",\n",
        "    \"Tell me about campus life\",\n",
        "    \"How much is tuition?\",\n",
        "    \"Are there scholarships available?\",\n",
        "    \"What is the job placement rate?\",\n",
        "    \"How can I schedule a campus tour?\",\n",
        "    \"Thank you, goodbye!\"\n",
        "  ];\n",
        "\n",
        "  for (const userInput of conversations) {\n",
        "    console.log(`User: ${userInput}`);\n",
        "    const response = bot.respond(userInput);\n",
        "    console.log(`CollegeBuddy: ${response}`);\n",
        "    await new Promise(resolve => setTimeout(resolve, 1000)); // Simulate delay between messages\n",
        "  }\n",
        "};\n",
        "\n",
        "simulateConversation();"
      ],
      "metadata": {
        "colab": {
          "base_uri": "https://localhost:8080/",
          "height": 110
        },
        "id": "w7gtvQBhT6Fk",
        "outputId": "a904d0b9-5e9d-4417-f68a-48b10bdd6e65"
      },
      "execution_count": 17,
      "outputs": [
        {
          "output_type": "error",
          "ename": "SyntaxError",
          "evalue": "unterminated string literal (detected at line 7) (<ipython-input-17-4606065b90c2>, line 7)",
          "traceback": [
            "\u001b[0;36m  File \u001b[0;32m\"<ipython-input-17-4606065b90c2>\"\u001b[0;36m, line \u001b[0;32m7\u001b[0m\n\u001b[0;31m    // Define the chatbot's knowledge base (question-answer pairs)\u001b[0m\n\u001b[0m                         ^\u001b[0m\n\u001b[0;31mSyntaxError\u001b[0m\u001b[0;31m:\u001b[0m unterminated string literal (detected at line 7)\n"
          ]
        }
      ]
    }
  ]
}